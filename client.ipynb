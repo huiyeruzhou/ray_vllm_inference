{
 "cells": [
  {
   "cell_type": "code",
   "execution_count": 20,
   "metadata": {},
   "outputs": [
    {
     "data": {
      "text/plain": [
       "GenerateResponse(texts=[''], prompt_tokens=16413, output_tokens=[0], finish_reason=['length'])"
      ]
     },
     "execution_count": 20,
     "metadata": {},
     "output_type": "execute_result"
    }
   ],
   "source": [
    "from api import SimpleClient\n",
    "cli = SimpleClient()\n",
    "await cli.chat(\"你好\", stop=\"<|EOS_TOKEN|>\", include_stop_str_in_output=True,max_tokens=32768)"
   ]
  },
  {
   "cell_type": "code",
   "execution_count": null,
   "metadata": {},
   "outputs": [],
   "source": [
    "## 超长了，不会输出提示，会因为length而终止\n",
    "## include_stop_str_in_output=True且skip_special_tokens=False，就能看到eos了\n",
    "## 要是在搜索的时候用，include_stop_str_in_output=True就正好，只要finish_reason是stop，且以\"\\n\\n\"结尾，就是搜索到了正确的了\n"
   ]
  }
 ],
 "metadata": {
  "fileId": "79de9f25-7126-4881-89fb-6edbb188dde8",
  "filePath": "/mnt/bn/honglifish/workspace/ray_vllm_inference/client.ipynb",
  "kernelspec": {
   "display_name": "base",
   "language": "python",
   "name": "python3"
  },
  "language_info": {
   "codemirror_mode": {
    "name": "ipython",
    "version": 3
   },
   "file_extension": ".py",
   "mimetype": "text/x-python",
   "name": "python",
   "nbconvert_exporter": "python",
   "pygments_lexer": "ipython3",
   "version": "3.12.4"
  }
 },
 "nbformat": 4,
 "nbformat_minor": 2
}
